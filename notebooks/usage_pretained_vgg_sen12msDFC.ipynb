{
 "cells": [
  {
   "cell_type": "code",
   "execution_count": 47,
   "id": "d07a3f74-f45b-4f20-abd4-6f7fbaca300b",
   "metadata": {},
   "outputs": [],
   "source": [
    "import torch\n",
    "from torchvision.models import vgg16\n",
    "from torch.nn import Conv2d\n",
    "\n",
    "import os, glob\n",
    "from tqdm.notebook import tqdm\n",
    "import rasterio\n",
    "import numpy as np"
   ]
  },
  {
   "cell_type": "markdown",
   "id": "48291f89-a84a-449a-b749-f51e9b6eeb94",
   "metadata": {},
   "source": [
    "# Utils"
   ]
  },
  {
   "cell_type": "code",
   "execution_count": 48,
   "id": "bb74c824-5ba6-4917-8c61-84c4de588f18",
   "metadata": {},
   "outputs": [],
   "source": [
    "class sen12msDFC_labelTransform:\n",
    "    def __init__(self):\n",
    "        # only classes that do exist in sen12ms DFC dataset are\n",
    "        # 1, 2, 4, 5, 6, 7, 9, 10\n",
    "        # so map them from zero to seven\n",
    "        #\n",
    "        #                       0     1  2     3    4  5  6  7    8     9  10\n",
    "        self.lut = np.array( [np.nan, 0, 1, np.nan, 2, 3, 4, 5, np.nan, 6, 7] )\n",
    "    def __call__(self, x):\n",
    "        return self.lut[x]\n",
    "\n",
    "lookUpTable = sen12msDFC_labelTransform()"
   ]
  },
  {
   "cell_type": "code",
   "execution_count": 33,
   "id": "d0d3d2d1-d936-499e-b3ef-510f76681385",
   "metadata": {},
   "outputs": [],
   "source": [
    "model = vgg16(num_classes=8)\n",
    "model.features[0] = Conv2d(10, 64, kernel_size=(3, 3), stride=(1, 1), padding=(1, 1))"
   ]
  },
  {
   "cell_type": "markdown",
   "id": "dc4b91e7-92f8-4501-9217-1124dc6b9ed8",
   "metadata": {},
   "source": [
    "# load checkpoint"
   ]
  },
  {
   "cell_type": "code",
   "execution_count": 34,
   "id": "4d80fe78-fbe0-419f-b6f6-b390e4d67805",
   "metadata": {},
   "outputs": [],
   "source": [
    "# adapt here to your path\n",
    "path_to_checkpoint = \"/home/user/results/data_centric_clustering/pretrain_on_dfc/2023-09-12_19:32:38/model_checkpoints/state_at_finalize.pt\""
   ]
  },
  {
   "cell_type": "code",
   "execution_count": 35,
   "id": "2ec6519d-5e48-4a21-8e2d-10e7a756e6cf",
   "metadata": {},
   "outputs": [],
   "source": [
    "ckp = torch.load(path_to_checkpoint)"
   ]
  },
  {
   "cell_type": "code",
   "execution_count": 36,
   "id": "9fc5f56f-9568-46b7-bfea-380ece32878a",
   "metadata": {},
   "outputs": [
    {
     "data": {
      "text/plain": [
       "dict_keys(['epoch', 'global_step', 'state_dict', 'optimizer_state_dict', 'loss'])"
      ]
     },
     "execution_count": 36,
     "metadata": {},
     "output_type": "execute_result"
    }
   ],
   "source": [
    "ckp.keys()"
   ]
  },
  {
   "cell_type": "code",
   "execution_count": 37,
   "id": "434dbffa-4f95-44ad-ad1c-27c391a20dc5",
   "metadata": {},
   "outputs": [
    {
     "data": {
      "text/plain": [
       "<All keys matched successfully>"
      ]
     },
     "execution_count": 37,
     "metadata": {},
     "output_type": "execute_result"
    }
   ],
   "source": [
    "model.load_state_dict(ckp[\"state_dict\"])"
   ]
  },
  {
   "cell_type": "markdown",
   "id": "4a275dd2-38d0-4bc5-b9dd-df7cb9a59bd9",
   "metadata": {},
   "source": [
    "# predict the sen12msdfc dataset\n",
    "\n",
    "### here just to calculate the confusion matrix. You ofc have to adapt to your spesific dataloader and experiment"
   ]
  },
  {
   "cell_type": "code",
   "execution_count": 38,
   "id": "41d2a8ae-7c42-499c-b1e8-5c8876d13189",
   "metadata": {},
   "outputs": [],
   "source": [
    "def preprocess_s2(s2):\n",
    "    # devide by 10k to get the 0-100% reflection\n",
    "    # window, then clip to [0,1]\n",
    "    return np.clip(s2/10000,0,1)"
   ]
  },
  {
   "cell_type": "code",
   "execution_count": 39,
   "id": "58a253e6-c968-4c15-af42-ca91462fa228",
   "metadata": {},
   "outputs": [
    {
     "data": {
      "text/plain": [
       "986"
      ]
     },
     "execution_count": 39,
     "metadata": {},
     "output_type": "execute_result"
    }
   ],
   "source": [
    "# adapt here to your path\n",
    "path_to_data = \"/home/user/data/sen12msDFC/s2_validation/\"\n",
    "all_dfc_sampels = glob.glob(os.path.join(path_to_data,\"*.tif\"))\n",
    "\n",
    "len(all_dfc_sampels)"
   ]
  },
  {
   "cell_type": "code",
   "execution_count": 65,
   "id": "cb606000-1703-46da-81f4-512df730078a",
   "metadata": {},
   "outputs": [
    {
     "data": {
      "application/json": {
       "ascii": false,
       "bar_format": null,
       "colour": null,
       "elapsed": 0.004474163055419922,
       "initial": 0,
       "n": 0,
       "ncols": null,
       "nrows": 9,
       "postfix": null,
       "prefix": "",
       "rate": null,
       "total": 986,
       "unit": "it",
       "unit_divisor": 1000,
       "unit_scale": false
      },
      "application/vnd.jupyter.widget-view+json": {
       "model_id": "dc7ba0498c9347a7bb208bce97414fa9",
       "version_major": 2,
       "version_minor": 0
      },
      "text/plain": [
       "  0%|          | 0/986 [00:00<?, ?it/s]"
      ]
     },
     "metadata": {},
     "output_type": "display_data"
    }
   ],
   "source": [
    "GT = []\n",
    "PRED = []\n",
    "\n",
    "for loc in tqdm(all_dfc_sampels):\n",
    "\n",
    "    # get data\n",
    "    with rasterio.open(loc,\"r\") as src:\n",
    "        data = src.read((2,3,4,5,6,7,8,9,12,13)) # only 10 bands\n",
    "        data = preprocess_s2(data)\n",
    "        \n",
    "    # get corresponding label\n",
    "    with rasterio.open(loc.replace(\"s2\",\"dfc\"),\"r\") as src:\n",
    "        label = src.read(1)\n",
    "        label = lookUpTable(label)\n",
    "        percentages = [100*np.sum(label==classindex)/256**2 for classindex in range(8)]\n",
    "        max_value = max(percentages)\n",
    "        max_value_index = percentages.index(max_value)\n",
    "        GT.append(max_value_index)\n",
    "    \n",
    "\n",
    "    # predict with model\n",
    "    pred = model(torch.Tensor(np.expand_dims(data,0)))\n",
    "    PRED.append(pred.argmax().item())\n",
    "    \n",
    "    #break"
   ]
  },
  {
   "cell_type": "code",
   "execution_count": 71,
   "id": "2f54d66a-d8ff-4209-8ca5-45c72795d6bf",
   "metadata": {},
   "outputs": [],
   "source": [
    "from sklearn.metrics import confusion_matrix"
   ]
  },
  {
   "cell_type": "code",
   "execution_count": 72,
   "id": "babd4761-b691-4c64-bffa-fe3eab91f56a",
   "metadata": {},
   "outputs": [],
   "source": [
    "cm = confusion_matrix(GT, PRED)"
   ]
  },
  {
   "cell_type": "code",
   "execution_count": 73,
   "id": "5ff86c85-01d6-4cc4-a27d-306ca0a6de41",
   "metadata": {},
   "outputs": [
    {
     "data": {
      "text/plain": [
       "array([[ 70,   0,   5,   0,   1,   0,   0,   0],\n",
       "       [  1,  27,   3,   0,   4,   0,   2,   0],\n",
       "       [ 31,   5,  47,   0,  18,   0,   0,   0],\n",
       "       [ 32,   0, 145,   0,   3,   0,   0,   0],\n",
       "       [  3,   8,  45,   0, 100,   0,   0,   0],\n",
       "       [  1,   1,  13,   0,   7,  40,   0,   0],\n",
       "       [  0,   9,   0,   0,   5,   0,   9,   0],\n",
       "       [ 21,   5,  24,   0,   4,   3,   2, 292]])"
      ]
     },
     "execution_count": 73,
     "metadata": {},
     "output_type": "execute_result"
    }
   ],
   "source": [
    "cm"
   ]
  },
  {
   "cell_type": "code",
   "execution_count": null,
   "id": "892a215d-0797-417b-951a-ba6a632ff808",
   "metadata": {},
   "outputs": [],
   "source": []
  },
  {
   "cell_type": "code",
   "execution_count": null,
   "id": "1b429a49-2e57-4631-bb60-b4fcfd5800e9",
   "metadata": {},
   "outputs": [],
   "source": []
  }
 ],
 "metadata": {
  "kernelspec": {
   "display_name": "Python 3 (ipykernel)",
   "language": "python",
   "name": "python3"
  },
  "language_info": {
   "codemirror_mode": {
    "name": "ipython",
    "version": 3
   },
   "file_extension": ".py",
   "mimetype": "text/x-python",
   "name": "python",
   "nbconvert_exporter": "python",
   "pygments_lexer": "ipython3",
   "version": "3.8.12"
  }
 },
 "nbformat": 4,
 "nbformat_minor": 5
}
